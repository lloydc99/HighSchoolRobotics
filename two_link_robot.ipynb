{
 "cells": [
  {
   "cell_type": "markdown",
   "id": "154c449d",
   "metadata": {},
   "source": [
    "## Simulator for two link arm for 2023 FRC competition\n",
    "\n",
    "This notebook was written to be followed by someone without extensive Python\n",
    "experience and knowledge of High School trigonometry. The goal was to allow\n",
    "someone new to the concepts to follow the flow and the math.\n",
    "\n",
    "The dimensions are unitless here so they can be in any unit that works.\n",
    "\n",
    "The angles are shown in degrees but converted to radians before calculation."
   ]
  },
  {
   "cell_type": "code",
   "execution_count": 1,
   "id": "01e03876",
   "metadata": {},
   "outputs": [],
   "source": [
    "from ipycanvas import Canvas, hold_canvas"
   ]
  },
  {
   "cell_type": "code",
   "execution_count": 2,
   "id": "b2bd56cf",
   "metadata": {},
   "outputs": [],
   "source": [
    "from ipywidgets import widgets, HBox, VBox, Layout, interact"
   ]
  },
  {
   "cell_type": "code",
   "execution_count": 3,
   "id": "9f1337b0",
   "metadata": {},
   "outputs": [],
   "source": [
    "import math"
   ]
  },
  {
   "cell_type": "code",
   "execution_count": 4,
   "id": "c3c4f37d",
   "metadata": {},
   "outputs": [],
   "source": [
    "# You should be able to change this size for your preference\n",
    "robot_canvas_width = 500\n",
    "robot_canvas_height = 300\n",
    "    \n",
    "robot_canvas = Canvas(width=robot_canvas_width, height=robot_canvas_height)"
   ]
  },
  {
   "cell_type": "code",
   "execution_count": 5,
   "id": "bd838af5",
   "metadata": {},
   "outputs": [],
   "source": [
    "def draw_robot_canvas(canvas, rf):\n",
    "    \"\"\"\n",
    "    Given a canvas to draw on and the points of a robot figure,\n",
    "    draw a stick representation of the robot and arm.\n",
    "    \"\"\"\n",
    "    with hold_canvas():\n",
    "        canvas.clear()\n",
    "        canvas.reset_transform()\n",
    "\n",
    "        # The origin of the canvas is the top which is upside down so we will\n",
    "        # move it to the bottom left corner and invert the y-axis\n",
    "        canvas.translate(0, canvas.height)\n",
    "        canvas.scale(3.0, -3.0)\n",
    "\n",
    "        canvas.line_width = 7\n",
    "        canvas.line_cap = 'round'\n",
    "        \n",
    "        # Draw a shallow back triangle for robot base\n",
    "        canvas.begin_path()\n",
    "        canvas.stroke_style = \"black\"\n",
    "        canvas.stroke_lines([rf.b1, rf.b0, rf.j0])\n",
    "        canvas.stroke()\n",
    "        \n",
    "        # Draw first link (j0-j1)\n",
    "        canvas.begin_path()\n",
    "        canvas.stroke_style = \"green\"\n",
    "        canvas.stroke_lines([rf.j0, rf.j1])\n",
    "        canvas.stroke()\n",
    "\n",
    "        # Draw second link (j1-j2)\n",
    "        canvas.line_width = 5\n",
    "        canvas.begin_path()\n",
    "        canvas.stroke_style = \"blue\"\n",
    "        canvas.stroke_lines([rf.j1, rf.j2])\n",
    "        canvas.stroke()\n",
    "        \n",
    "        # Draw a line that is 48 inches from the robot base\n",
    "        canvas.line_width = 1\n",
    "        canvas.begin_path()\n",
    "        canvas.stroke_style = \"red\"\n",
    "        canvas.stroke_lines([rf.limit1, rf.limit2])\n",
    "        canvas.stroke()\n",
    "        \n"
   ]
  },
  {
   "cell_type": "code",
   "execution_count": 6,
   "id": "d69c719b",
   "metadata": {},
   "outputs": [],
   "source": [
    "class robot_configuration:\n",
    "    \"\"\"\n",
    "    This class holds the robot dimensions and the joint state angles.\n",
    "    The user will need to update the dimensions to match the robot.\n",
    "    \"\"\"\n",
    "    # This tracks the robots location on the floor\n",
    "    base_x = 100\n",
    "\n",
    "    # This is the height of the first arm jpoint above the floor\n",
    "    base_height = 5\n",
    "    \n",
    "    # This is the length to the back of the robot from the front\n",
    "    base_length = 32\n",
    "    \n",
    "    # This is the rule limit for the maximum distance from the robot\n",
    "    limit = 48\n",
    "    \n",
    "    # Length of the first robot link\n",
    "    l1 = 32\n",
    "    j0_degrees = 180\n",
    "    \n",
    "    # Length of the second robot link\n",
    "    l2 = 32\n",
    "    j1_degrees = 180\n",
    "\n",
    "# Create an instance of the class\n",
    "rc = robot_configuration()"
   ]
  },
  {
   "cell_type": "code",
   "execution_count": 7,
   "id": "fead26a7",
   "metadata": {},
   "outputs": [],
   "source": [
    "class robot_figure:\n",
    "    \"\"\"\n",
    "    This class provides the task space representation of the key robot\n",
    "    points for doing range checking and drawing. It depends on the\n",
    "    robot configuration.\n",
    "    \"\"\"\n",
    "    \n",
    "    def __init__(self, robot_configuration):\n",
    "        self.rc = robot_configuration\n",
    "        self.b0 = [0,0] # Point at the front of the robot\n",
    "        self.b1 = [0,0] # Point at the back of the robot\n",
    "        self.j0 = [0,0] # Attachment of the arm\n",
    "        self.j1 = [0,0] # End of first link\n",
    "        self.j2 = [0,0] # End of second link\n",
    "        self.limit1 = [0,0] # bottom of line for extension limit\n",
    "        self.limit2 = [0,0] # top of line for extension limit\n",
    "        \n",
    "        self.d2r = math.pi/180 # convert degrees to radians\n",
    "    \n",
    "    def update_locations(self):\n",
    "        #Draw the base first and the j0 (arm) attachment point\n",
    "        self.b0 = [self.rc.base_x, 20]\n",
    "        self.b1 = [self.rc.base_x - self.rc.base_length, 20]\n",
    "\n",
    "        # Draw a line 48 inches in front of the robot\n",
    "        self.limit1 = [self.b0[0] + self.rc.limit, self.b0[1]]\n",
    "        self.limit2 = [self.b0[0] + self.rc.limit, self.b0[1]+200]\n",
    "\n",
    "        self.j0 = [self.b0[0], self.b0[1]+self.rc.base_height]\n",
    "\n",
    "        # Add the first link to the base\n",
    "        self.j1[0] = self.j0[0] + self.rc.l1 * math.cos(self.rc.j0_degrees*self.d2r)\n",
    "        self.j1[1] = self.j0[1] + self.rc.l1 * math.sin(self.rc.j0_degrees*self.d2r)\n",
    "        \n",
    "        # Add the second link to the first link\n",
    "        # The second joint angle is relative to the first joint angle so they are added\n",
    "        self.j2[0] = self.j1[0] + self.rc.l2 * math.cos((self.rc.j0_degrees+self.rc.j1_degrees)*self.d2r)\n",
    "        self.j2[1] = self.j1[1] + self.rc.l2 * math.sin((self.rc.j0_degrees+self.rc.j1_degrees)*self.d2r)\n",
    "\n",
    "\n",
    "# Create an instance of the class\n",
    "rf = robot_figure(rc)\n"
   ]
  },
  {
   "cell_type": "markdown",
   "id": "3b109986",
   "metadata": {},
   "source": [
    "# Brief explanation of user interface code below\n",
    "\n",
    "The \"@interact\" decorator creates a display widget that sends a value to \n",
    "the robot configuration class. After the robot configuration is updated,\n",
    "the robot figure class recalculates the forward kinematics of the robot.\n",
    "\n",
    "The draw_canvas method is then called to use the forward kinematics to\n",
    "draw the robot."
   ]
  },
  {
   "cell_type": "code",
   "execution_count": 8,
   "id": "d4f5b97d",
   "metadata": {},
   "outputs": [
    {
     "data": {
      "application/vnd.jupyter.widget-view+json": {
       "model_id": "3720736a10824483aac1f756100335dc",
       "version_major": 2,
       "version_minor": 0
      },
      "text/plain": [
       "interactive(children=(FloatSlider(value=180.0, description='J0_angle', max=180.0, min=-180.0), Output()), _dom…"
      ]
     },
     "metadata": {},
     "output_type": "display_data"
    },
    {
     "data": {
      "application/vnd.jupyter.widget-view+json": {
       "model_id": "46399387729245acb0f32ae04c53f36c",
       "version_major": 2,
       "version_minor": 0
      },
      "text/plain": [
       "interactive(children=(FloatSlider(value=180.0, description='J1_angle', max=180.0, min=-180.0), Output()), _dom…"
      ]
     },
     "metadata": {},
     "output_type": "display_data"
    }
   ],
   "source": [
    "# Provide a widget that goes from -180 to 180 degrees\n",
    "@interact(J0_angle=(-180.0,180.0))\n",
    "\n",
    "# Handle a change to the J0 joint\n",
    "def j0_change(J0_angle=180):\n",
    "    rc.j0_degrees = J0_angle\n",
    "    rf.update_locations()\n",
    "    draw_robot_canvas(robot_canvas, rf)\n",
    "    \n",
    "@interact(J1_angle=(-180.0,180.0))\n",
    "\n",
    "# Handle a change to the J1 joint\n",
    "def j1_change(J1_angle=180):\n",
    "    rc.j1_degrees = J1_angle\n",
    "    rf.update_locations()\n",
    "    draw_robot_canvas(robot_canvas, rf)"
   ]
  },
  {
   "cell_type": "code",
   "execution_count": 9,
   "id": "6072729d",
   "metadata": {},
   "outputs": [
    {
     "data": {
      "application/vnd.jupyter.widget-view+json": {
       "model_id": "ca755d245279433abafd38b77a51b784",
       "version_major": 2,
       "version_minor": 0
      },
      "text/plain": [
       "Canvas(height=300, width=500)"
      ]
     },
     "metadata": {},
     "output_type": "display_data"
    }
   ],
   "source": [
    "robot_canvas"
   ]
  },
  {
   "cell_type": "code",
   "execution_count": null,
   "id": "9e57c7f3",
   "metadata": {},
   "outputs": [],
   "source": []
  }
 ],
 "metadata": {
  "kernelspec": {
   "display_name": "Python 3 (ipykernel)",
   "language": "python",
   "name": "python3"
  },
  "language_info": {
   "codemirror_mode": {
    "name": "ipython",
    "version": 3
   },
   "file_extension": ".py",
   "mimetype": "text/x-python",
   "name": "python",
   "nbconvert_exporter": "python",
   "pygments_lexer": "ipython3",
   "version": "3.8.16"
  }
 },
 "nbformat": 4,
 "nbformat_minor": 5
}
