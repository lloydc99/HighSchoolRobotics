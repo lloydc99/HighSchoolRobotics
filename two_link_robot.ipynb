{
 "cells": [
  {
   "cell_type": "code",
   "execution_count": null,
   "id": "01e03876",
   "metadata": {},
   "outputs": [],
   "source": [
    "from ipycanvas import Canvas, hold_canvas"
   ]
  },
  {
   "cell_type": "code",
   "execution_count": null,
   "id": "b2bd56cf",
   "metadata": {},
   "outputs": [],
   "source": [
    "from ipywidgets import widgets, HBox, VBox, Layout, interact"
   ]
  },
  {
   "cell_type": "code",
   "execution_count": null,
   "id": "9f1337b0",
   "metadata": {},
   "outputs": [],
   "source": [
    "import math"
   ]
  },
  {
   "cell_type": "code",
   "execution_count": null,
   "id": "c3c4f37d",
   "metadata": {},
   "outputs": [],
   "source": [
    "robot_canvas_width = 500\n",
    "robot_canvas_height = 300\n",
    "    \n",
    "robot_canvas = Canvas(width=robot_canvas_width, height=robot_canvas_height)"
   ]
  },
  {
   "cell_type": "code",
   "execution_count": null,
   "id": "bd838af5",
   "metadata": {},
   "outputs": [],
   "source": [
    "def draw_robot_canvas(canvas, rf):\n",
    "    \"\"\"\n",
    "    Given a canvas to draw on and the points of a robot figure,\n",
    "    draw a stick representation of the robot and arm.\n",
    "    \"\"\"\n",
    "    with hold_canvas():\n",
    "        canvas.clear()\n",
    "        canvas.reset_transform()\n",
    "\n",
    "        # The origin of the canvas is the top which is upside down so we will\n",
    "        # move it to the bottom left corner and invert the y-axis\n",
    "        canvas.translate(0, canvas.height)\n",
    "        canvas.scale(3.0, -3.0)\n",
    "\n",
    "        canvas.line_width = 7\n",
    "        canvas.line_cap = 'round'\n",
    "        \n",
    "        # Draw vertical line for robot base\n",
    "        canvas.begin_path()\n",
    "        canvas.stroke_style = \"black\"\n",
    "        canvas.stroke_lines([rf.b1, rf.b0, rf.j0])\n",
    "        canvas.stroke()\n",
    "        \n",
    "        # Draw first link (j0-j1)\n",
    "        canvas.begin_path()\n",
    "        canvas.stroke_style = \"green\"\n",
    "        canvas.stroke_lines([rf.j0, rf.j1])\n",
    "        canvas.stroke()\n",
    "\n",
    "        # Draw second link (j1-j2)\n",
    "        canvas.line_width = 5\n",
    "        canvas.begin_path()\n",
    "        canvas.stroke_style = \"blue\"\n",
    "        canvas.stroke_lines([rf.j1, rf.j2])\n",
    "        canvas.stroke()\n",
    "        \n",
    "        # Draw a line that is 48 inches from the robot base\n",
    "        canvas.line_width = 1\n",
    "        canvas.begin_path()\n",
    "        canvas.stroke_style = \"red\"\n",
    "        canvas.stroke_lines([rf.limit1, rf.limit2])\n",
    "        canvas.stroke()\n",
    "        \n"
   ]
  },
  {
   "cell_type": "code",
   "execution_count": null,
   "id": "d69c719b",
   "metadata": {},
   "outputs": [],
   "source": [
    "class robot_configuration:\n",
    "    \"\"\"\n",
    "    This class just holds the robot dimensions and the joint state angles\n",
    "    \"\"\"\n",
    "    base_x = 100\n",
    "    base_height = 5\n",
    "    base_width = 32\n",
    "    \n",
    "    limit = 48\n",
    "    \n",
    "    l1 = 32\n",
    "    j0_degrees = 90\n",
    "    \n",
    "    l2 = 32\n",
    "    j1_degrees = -90\n",
    "\n",
    "# Create an instance of the class\n",
    "rc = robot_configuration()"
   ]
  },
  {
   "cell_type": "code",
   "execution_count": null,
   "id": "fead26a7",
   "metadata": {},
   "outputs": [],
   "source": [
    "class robot_figure:\n",
    "    \"\"\"\n",
    "    This class provides the task space representation of the key robot\n",
    "    points for doing range checking and drawing. It depends on the\n",
    "    robot configuration.\n",
    "    \"\"\"\n",
    "    \n",
    "    def __init__(self, robot_configuration):\n",
    "        self.rc = robot_configuration\n",
    "        self.b0 = [0,0]\n",
    "        self.b1 = [0,0]\n",
    "        self.j0 = [0,0]\n",
    "        self.j1 = [0,0]\n",
    "        self.j2 = [0,0]\n",
    "        self.limit1 = [0,0]\n",
    "        self.limit2 = [0,0]\n",
    "        self.d2r = math.pi/180 # convert degrees to radians\n",
    "    \n",
    "    def update_locations(self):\n",
    "        #Draw the base first adn the j0 (arm) attachment point\n",
    "        self.b0 = [self.rc.base_x, 20]\n",
    "        self.b1 = [self.rc.base_x - self.rc.base_width, 20]\n",
    "\n",
    "        # Draw a line 48 inches in front of the robot\n",
    "        self.limit1 = [self.b0[0] + self.rc.limit, self.b0[1]]\n",
    "        self.limit2 = [self.b0[0] + self.rc.limit, self.b0[1]+200]\n",
    "\n",
    "        self.j0 = [self.b0[0], self.b0[1]+self.rc.base_height]\n",
    "\n",
    "        # Add the first link to the base\n",
    "        self.j1[0] = self.j0[0] + self.rc.l1 * math.cos(self.rc.j0_degrees*self.d2r)\n",
    "        self.j1[1] = self.j0[1] + self.rc.l1 * math.sin(self.rc.j0_degrees*self.d2r)\n",
    "        \n",
    "        # Add the second link to the first link\n",
    "        # The second joint angle is relative to the first joint angle so they are added\n",
    "        self.j2[0] = self.j1[0] + self.rc.l2 * math.cos((self.rc.j0_degrees+self.rc.j1_degrees)*self.d2r)\n",
    "        self.j2[1] = self.j1[1] + self.rc.l2 * math.sin((self.rc.j0_degrees+self.rc.j1_degrees)*self.d2r)\n",
    "\n",
    "\n",
    "# Create an instance of the class\n",
    "rf = robot_figure(rc)\n"
   ]
  },
  {
   "cell_type": "code",
   "execution_count": 1,
   "id": "61537a56",
   "metadata": {},
   "outputs": [
    {
     "ename": "NameError",
     "evalue": "name 'interact' is not defined",
     "output_type": "error",
     "traceback": [
      "\u001b[0;31m---------------------------------------------------------------------------\u001b[0m",
      "\u001b[0;31mNameError\u001b[0m                                 Traceback (most recent call last)",
      "Cell \u001b[0;32mIn[1], line 1\u001b[0m\n\u001b[0;32m----> 1\u001b[0m \u001b[38;5;129m@interact\u001b[39m(J0_angle\u001b[38;5;241m=\u001b[39m(\u001b[38;5;241m-\u001b[39m\u001b[38;5;241m180.0\u001b[39m,\u001b[38;5;241m180.0\u001b[39m))\n\u001b[1;32m      2\u001b[0m \u001b[38;5;28;01mdef\u001b[39;00m \u001b[38;5;21mj0_change\u001b[39m(J0_angle\u001b[38;5;241m=\u001b[39m\u001b[38;5;241m180\u001b[39m):\n\u001b[1;32m      3\u001b[0m     rc\u001b[38;5;241m.\u001b[39mj0_degrees \u001b[38;5;241m=\u001b[39m J0_angle\n\u001b[1;32m      4\u001b[0m     rf\u001b[38;5;241m.\u001b[39mupdate_locations()\n",
      "\u001b[0;31mNameError\u001b[0m: name 'interact' is not defined"
     ]
    }
   ],
   "source": [
    "@interact(J0_angle=(-180.0,180.0))\n",
    "def j0_change(J0_angle=180):\n",
    "    rc.j0_degrees = J0_angle\n",
    "    rf.update_locations()\n",
    "    draw_robot_canvas(robot_canvas, rf)\n",
    "    \n",
    "@interact(J1_angle=(-180.0,180.0))\n",
    "def j1_change(J1_angle=180):\n",
    "    rc.j1_degrees = J1_angle\n",
    "    rf.update_locations()\n",
    "    draw_robot_canvas(robot_canvas, rf)"
   ]
  },
  {
   "cell_type": "code",
   "execution_count": null,
   "id": "6072729d",
   "metadata": {},
   "outputs": [],
   "source": [
    "robot_canvas"
   ]
  },
  {
   "cell_type": "code",
   "execution_count": null,
   "id": "9e57c7f3",
   "metadata": {},
   "outputs": [],
   "source": []
  }
 ],
 "metadata": {
  "kernelspec": {
   "display_name": "Python 3 (ipykernel)",
   "language": "python",
   "name": "python3"
  },
  "language_info": {
   "codemirror_mode": {
    "name": "ipython",
    "version": 3
   },
   "file_extension": ".py",
   "mimetype": "text/x-python",
   "name": "python",
   "nbconvert_exporter": "python",
   "pygments_lexer": "ipython3",
   "version": "3.8.16"
  }
 },
 "nbformat": 4,
 "nbformat_minor": 5
}
