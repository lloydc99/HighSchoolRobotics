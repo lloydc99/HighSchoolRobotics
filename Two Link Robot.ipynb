{
 "cells": [
  {
   "cell_type": "code",
   "execution_count": 1,
   "id": "01e03876",
   "metadata": {},
   "outputs": [],
   "source": [
    "from ipycanvas import Canvas, hold_canvas, Path2D"
   ]
  },
  {
   "cell_type": "code",
   "execution_count": 2,
   "id": "b2bd56cf",
   "metadata": {},
   "outputs": [],
   "source": [
    "from ipywidgets import interact, interactive, fixed, interact_manual\n",
    "import ipywidgets as widgets"
   ]
  },
  {
   "cell_type": "code",
   "execution_count": 3,
   "id": "9f1337b0",
   "metadata": {},
   "outputs": [],
   "source": [
    "import numpy as np"
   ]
  },
  {
   "cell_type": "code",
   "execution_count": 4,
   "id": "c3c4f37d",
   "metadata": {},
   "outputs": [],
   "source": [
    "robot_canvas_width = 500\n",
    "robot_canvas_height = 300\n",
    "    \n",
    "robot_canvas = Canvas(width=robot_canvas_width, height=robot_canvas_height)\n"
   ]
  },
  {
   "cell_type": "code",
   "execution_count": null,
   "id": "e861e3e5",
   "metadata": {},
   "outputs": [],
   "source": []
  },
  {
   "cell_type": "code",
   "execution_count": 5,
   "id": "bd838af5",
   "metadata": {},
   "outputs": [],
   "source": [
    "def draw_robot_canvas(canvas, pos_x, pos_y):\n",
    "    with hold_canvas():\n",
    "        canvas.clear()\n",
    "        canvas.reset_transform()\n",
    "\n",
    "        # The origin of the canvas is the top which is upside down so we will\n",
    "        # move it to the bottom corner and rotate by 180 degrees.\n",
    "        # The X-axis will be backwards, but that is better than being upside down.\n",
    "        canvas.translate(canvas.width,canvas.height)\n",
    "        canvas.rotate(3.14159)\n",
    "        \n",
    "        canvas.line_width = 15\n",
    "        canvas.line_cap = 'round'\n",
    "        \n",
    "        b0 = (20,10)\n",
    "        j0 = (b0[0], b0[1]+10)\n",
    "        j1 = (pos_x, pos_y)\n",
    "        j2 = (300, 200)\n",
    "\n",
    "        # Draw vertical line for robot base\n",
    "        canvas.begin_path()\n",
    "        canvas.stroke_style = \"red\"\n",
    "        canvas.stroke_lines([b0,j0])\n",
    "        canvas.stroke()\n",
    "        \n",
    "        # Draw first link (j0-j1)\n",
    "        canvas.begin_path()\n",
    "        canvas.stroke_style = \"green\"\n",
    "        canvas.stroke_lines([j0,j1])\n",
    "        canvas.stroke()\n",
    "\n",
    "        # Draw second link (j1-j2)\n",
    "        canvas.begin_path()\n",
    "        canvas.stroke_style = \"blue\"\n",
    "        canvas.stroke_lines([j1,j2])\n",
    "        canvas.stroke()\n"
   ]
  },
  {
   "cell_type": "code",
   "execution_count": 6,
   "id": "111c1d10",
   "metadata": {},
   "outputs": [],
   "source": [
    "class robot_configuration:\n",
    "    j1 = [100,100]\n",
    "\n",
    "    def update_pos_x(self, pos):\n",
    "        self.j1[0] = pos\n",
    "        print(self.j1)\n",
    "        draw_robot_canvas(robot_canvas, self.j1[0], self.j1[1])\n",
    "    \n",
    "    def update_pos_y(self, pos):\n",
    "        self.j1[1] = pos\n",
    "        print(self.j1)\n",
    "        draw_robot_canvas(robot_canvas, self.j1[0], self.j1[1])\n",
    "        \n",
    "rc = robot_configuration()"
   ]
  },
  {
   "cell_type": "code",
   "execution_count": 7,
   "id": "fead26a7",
   "metadata": {},
   "outputs": [],
   "source": [
    "#pos_y_widget = interactive(rc.update_pos_y, pos=(0,200),orientation='vertical')\n",
    "#pos_x_widget = interactive(rc.update_pos_x, pos=(0,200))"
   ]
  },
  {
   "cell_type": "code",
   "execution_count": 8,
   "id": "43536ba4",
   "metadata": {},
   "outputs": [],
   "source": [
    "qpos_x_widget = widgets.FloatSlider(\n",
    "    value=100,\n",
    "    min=0,\n",
    "    max=200.0,\n",
    "    step=0.1,\n",
    "    description='Pos (x):',\n",
    "    disabled=False,\n",
    "    continuous_update=False,\n",
    "    orientation='horizontal',\n",
    "    readout=True,\n",
    "    readout_format='.1f',\n",
    ")\n",
    "\n",
    "def on_value_change_x(change):\n",
    "    print(change['new'])\n",
    "    rc.update_pos_x(change['new'])\n",
    "    \n",
    "#qpos_x_widget.observe(rc.update_pos_x, names='value')\n",
    "qpos_x_widget.observe(on_value_change_x, names='value')\n",
    "\n",
    "\n",
    "qpos_y_widget = widgets.FloatSlider(\n",
    "    value=100,\n",
    "    min=0,\n",
    "    max=200.0,\n",
    "    step=0.1,\n",
    "    description='Pos (y):',\n",
    "    disabled=False,\n",
    "    continuous_update=False,\n",
    "    orientation='vertical',\n",
    "    readout=True,\n",
    "    readout_format='.1f',\n",
    ")\n",
    "\n",
    "def on_value_change_y(change):\n",
    "    print(change['new'])\n",
    "    rc.update_pos_y(change['new'])\n",
    "    \n",
    "qpos_y_widget.observe(on_value_change_y, names='value')"
   ]
  },
  {
   "cell_type": "code",
   "execution_count": 9,
   "id": "6ada8660",
   "metadata": {},
   "outputs": [
    {
     "data": {
      "application/vnd.jupyter.widget-view+json": {
       "model_id": "6be319b35771461a9cc56ef685c1fbba",
       "version_major": 2,
       "version_minor": 0
      },
      "text/plain": [
       "FloatSlider(value=100.0, continuous_update=False, description='Pos (y):', max=200.0, orientation='vertical', r…"
      ]
     },
     "metadata": {},
     "output_type": "display_data"
    },
    {
     "data": {
      "application/vnd.jupyter.widget-view+json": {
       "model_id": "54acd75a2ccb41d0afb42c8763c9dc27",
       "version_major": 2,
       "version_minor": 0
      },
      "text/plain": [
       "FloatSlider(value=100.0, continuous_update=False, description='Pos (x):', max=200.0, readout_format='.1f')"
      ]
     },
     "metadata": {},
     "output_type": "display_data"
    },
    {
     "data": {
      "application/vnd.jupyter.widget-view+json": {
       "model_id": "f5ad375e6f364bd49dbedbee29ed678a",
       "version_major": 2,
       "version_minor": 0
      },
      "text/plain": [
       "Canvas(height=300, width=500)"
      ]
     },
     "metadata": {},
     "output_type": "display_data"
    },
    {
     "name": "stdout",
     "output_type": "stream",
     "text": [
      "124.8\n",
      "[124.8, 100]\n",
      "76.7\n",
      "[76.7, 100]\n",
      "51.9\n",
      "[51.9, 100]\n",
      "103.3\n",
      "[103.3, 100]\n",
      "55.5\n",
      "[55.5, 100]\n",
      "111.7\n",
      "[111.7, 100]\n",
      "57.4\n",
      "[111.7, 57.4]\n",
      "129.3\n",
      "[111.7, 129.3]\n"
     ]
    }
   ],
   "source": [
    "#display(pos_y_widget)\n",
    "#display(pos_x_widget)\n",
    "\n",
    "display(qpos_y_widget)\n",
    "display(qpos_x_widget)\n",
    "\n",
    "display(robot_canvas)"
   ]
  },
  {
   "cell_type": "code",
   "execution_count": null,
   "id": "400d928a",
   "metadata": {},
   "outputs": [],
   "source": []
  }
 ],
 "metadata": {
  "kernelspec": {
   "display_name": "Python 3 (ipykernel)",
   "language": "python",
   "name": "python3"
  },
  "language_info": {
   "codemirror_mode": {
    "name": "ipython",
    "version": 3
   },
   "file_extension": ".py",
   "mimetype": "text/x-python",
   "name": "python",
   "nbconvert_exporter": "python",
   "pygments_lexer": "ipython3",
   "version": "3.8.16"
  }
 },
 "nbformat": 4,
 "nbformat_minor": 5
}
