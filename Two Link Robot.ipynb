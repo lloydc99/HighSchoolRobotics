{
 "cells": [
  {
   "cell_type": "code",
   "execution_count": 1,
   "id": "01e03876",
   "metadata": {},
   "outputs": [],
   "source": [
    "from ipycanvas import Canvas, hold_canvas, Path2D"
   ]
  },
  {
   "cell_type": "code",
   "execution_count": 2,
   "id": "b2bd56cf",
   "metadata": {},
   "outputs": [],
   "source": [
    "from ipywidgets import interact, interactive, fixed, interact_manual\n",
    "import ipywidgets as widgets"
   ]
  },
  {
   "cell_type": "code",
   "execution_count": 3,
   "id": "9f1337b0",
   "metadata": {},
   "outputs": [],
   "source": [
    "import numpy as np"
   ]
  },
  {
   "cell_type": "code",
   "execution_count": 9,
   "id": "c3c4f37d",
   "metadata": {},
   "outputs": [],
   "source": [
    "robot_canvas_width = 500\n",
    "robot_canvas_height = 300\n",
    "    \n",
    "robot_canvas = Canvas(width=robot_canvas_width, height=robot_canvas_height)\n"
   ]
  },
  {
   "cell_type": "code",
   "execution_count": 17,
   "id": "c14bbf07",
   "metadata": {},
   "outputs": [],
   "source": []
  },
  {
   "cell_type": "code",
   "execution_count": 18,
   "id": "5c37a63f",
   "metadata": {},
   "outputs": [],
   "source": [
    "qpos_x_widget = widgets.FloatSlider(\n",
    "    value=100,\n",
    "    min=0,\n",
    "    max=200.0,\n",
    "    step=0.1,\n",
    "    description='Pos (x):',\n",
    "    disabled=False,\n",
    "    continuous_update=False,\n",
    "    orientation='horizontal',\n",
    "    readout=True,\n",
    "    readout_format='.1f',\n",
    ")\n",
    "\n",
    "#pos_x_widget.observe(fx, names='value')\n",
    "\n",
    "qpos_y_widget = widgets.FloatSlider(\n",
    "    value=100,\n",
    "    min=0,\n",
    "    max=200.0,\n",
    "    step=0.1,\n",
    "    description='Pos (x):',\n",
    "    disabled=False,\n",
    "    continuous_update=False,\n",
    "    orientation='vertical',\n",
    "    readout=True,\n",
    "    readout_format='.1f',\n",
    ")\n",
    "\n",
    "#pos_y_widget.observe(fy, names='value')\n"
   ]
  },
  {
   "cell_type": "code",
   "execution_count": 22,
   "id": "bd838af5",
   "metadata": {},
   "outputs": [],
   "source": [
    "def draw_robot_canvas(canvas, pos_x, pos_y):\n",
    "    with hold_canvas():\n",
    "        canvas.clear()\n",
    "        canvas.reset_transform()\n",
    "\n",
    "        # The origin of the canvas is the top which is upside down so we will\n",
    "        # move it to the bottom corner and rotate by 180 degrees.\n",
    "        # The X-axis will be backwards, but that is better than being upside down.\n",
    "        canvas.translate(canvas.width,canvas.height)\n",
    "        canvas.rotate(3.14159)\n",
    "        \n",
    "        canvas.line_width = 15\n",
    "        canvas.line_cap = 'round'\n",
    "        \n",
    "        b0 = (20,10)\n",
    "        j0 = (b0[0], b0[1]+10)\n",
    "        j1 = (pos_x, pos_y)\n",
    "        j2 = (300, 200)\n",
    "\n",
    "        # Draw vertical line for robot base\n",
    "        canvas.begin_path()\n",
    "        canvas.stroke_style = \"red\"\n",
    "        canvas.stroke_lines([b0,j0])\n",
    "        canvas.stroke()\n",
    "        \n",
    "        # Draw first link (j0-j1)\n",
    "        canvas.begin_path()\n",
    "        canvas.stroke_style = \"green\"\n",
    "        canvas.stroke_lines([j0,j1])\n",
    "        canvas.stroke()\n",
    "\n",
    "        # Draw second link (j1-j2)\n",
    "        canvas.begin_path()\n",
    "        canvas.stroke_style = \"blue\"\n",
    "        canvas.stroke_lines([j1,j2])\n",
    "        canvas.stroke()\n"
   ]
  },
  {
   "cell_type": "code",
   "execution_count": 29,
   "id": "578e20e6",
   "metadata": {},
   "outputs": [],
   "source": [
    "class robot_configuration:\n",
    "    j1 = [100,100]\n",
    "\n",
    "    def update_pos_x(self, pos):\n",
    "        print (self.j1)\n",
    "        self.j1[0] = pos\n",
    "        print (self.j1)\n",
    "        draw_robot_canvas(robot_canvas, self.j1[0], self.j1[1])\n",
    "    \n",
    "    def update_pos_y(self, pos):\n",
    "        print (self.j1)\n",
    "        self.j1[1] = pos\n",
    "        print (self.j1)\n",
    "        draw_robot_canvas(robot_canvas, self.j1[0], self.j1[1])\n",
    "        \n",
    "rc = robot_configuration()"
   ]
  },
  {
   "cell_type": "code",
   "execution_count": 30,
   "id": "fead26a7",
   "metadata": {},
   "outputs": [],
   "source": [
    "pos_x_widget = interactive(rc.update_pos_x, pos=(0,200))\n",
    "pos_y_widget = interactive(rc.update_pos_y, pos=(0,200))\n"
   ]
  },
  {
   "cell_type": "code",
   "execution_count": 31,
   "id": "c341c682",
   "metadata": {},
   "outputs": [
    {
     "data": {
      "application/vnd.jupyter.widget-view+json": {
       "model_id": "de82f9b85fdd48e19ef6369c2c1da5f1",
       "version_major": 2,
       "version_minor": 0
      },
      "text/plain": [
       "interactive(children=(IntSlider(value=100, description='pos', max=200), Output()), _dom_classes=('widget-inter…"
      ]
     },
     "metadata": {},
     "output_type": "display_data"
    },
    {
     "data": {
      "application/vnd.jupyter.widget-view+json": {
       "model_id": "14e29d3401c347859995dde054f3f2c9",
       "version_major": 2,
       "version_minor": 0
      },
      "text/plain": [
       "interactive(children=(IntSlider(value=100, description='pos', max=200), Output()), _dom_classes=('widget-inter…"
      ]
     },
     "metadata": {},
     "output_type": "display_data"
    },
    {
     "data": {
      "application/vnd.jupyter.widget-view+json": {
       "model_id": "81038084295844aa9f3415bb6b047b2e",
       "version_major": 2,
       "version_minor": 0
      },
      "text/plain": [
       "Canvas(height=300, width=500)"
      ]
     },
     "metadata": {},
     "output_type": "display_data"
    }
   ],
   "source": [
    "display(pos_x_widget)\n",
    "display(pos_y_widget)\n",
    "display(robot_canvas)"
   ]
  },
  {
   "cell_type": "code",
   "execution_count": null,
   "id": "400d928a",
   "metadata": {},
   "outputs": [],
   "source": []
  }
 ],
 "metadata": {
  "kernelspec": {
   "display_name": "Python 3 (ipykernel)",
   "language": "python",
   "name": "python3"
  },
  "language_info": {
   "codemirror_mode": {
    "name": "ipython",
    "version": 3
   },
   "file_extension": ".py",
   "mimetype": "text/x-python",
   "name": "python",
   "nbconvert_exporter": "python",
   "pygments_lexer": "ipython3",
   "version": "3.8.16"
  }
 },
 "nbformat": 4,
 "nbformat_minor": 5
}
