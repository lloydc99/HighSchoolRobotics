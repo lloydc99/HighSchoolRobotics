{
 "cells": [
  {
   "cell_type": "code",
   "execution_count": 1,
   "id": "01e03876",
   "metadata": {},
   "outputs": [],
   "source": [
    "from ipycanvas import Canvas, hold_canvas"
   ]
  },
  {
   "cell_type": "code",
   "execution_count": 2,
   "id": "b2bd56cf",
   "metadata": {},
   "outputs": [],
   "source": [
    "from ipywidgets import widgets, HBox, VBox, Layout"
   ]
  },
  {
   "cell_type": "code",
   "execution_count": 3,
   "id": "9f1337b0",
   "metadata": {},
   "outputs": [],
   "source": [
    "import math"
   ]
  },
  {
   "cell_type": "code",
   "execution_count": 4,
   "id": "c3c4f37d",
   "metadata": {},
   "outputs": [],
   "source": [
    "robot_canvas_width = 500\n",
    "robot_canvas_height = 300\n",
    "    \n",
    "robot_canvas = Canvas(width=robot_canvas_width, height=robot_canvas_height)"
   ]
  },
  {
   "cell_type": "code",
   "execution_count": 5,
   "id": "bd838af5",
   "metadata": {},
   "outputs": [],
   "source": [
    "def draw_robot_canvas(canvas, rf):\n",
    "    with hold_canvas():\n",
    "        canvas.clear()\n",
    "        canvas.reset_transform()\n",
    "\n",
    "        # The origin of the canvas is the top which is upside down so we will\n",
    "        # move it to the bottom left corner and invert the y-axis\n",
    "        canvas.translate(0, canvas.height)\n",
    "        canvas.scale(1.0, -1.0)\n",
    "\n",
    "        canvas.line_width = 15\n",
    "        canvas.line_cap = 'round'\n",
    "        \n",
    "        # Draw vertical line for robot base\n",
    "        canvas.begin_path()\n",
    "        canvas.stroke_style = \"red\"\n",
    "        canvas.stroke_lines([rf.b0, rf.j0])\n",
    "        canvas.stroke()\n",
    "        \n",
    "        # Draw first link (j0-j1)\n",
    "        canvas.begin_path()\n",
    "        canvas.stroke_style = \"green\"\n",
    "        canvas.stroke_lines([rf.j0, rf.j1])\n",
    "        canvas.stroke()\n",
    "\n",
    "        # Draw second link (j1-j2)\n",
    "        canvas.begin_path()\n",
    "        canvas.stroke_style = \"blue\"\n",
    "        canvas.stroke_lines([rf.j1, rf.j2])\n",
    "        canvas.stroke()\n"
   ]
  },
  {
   "cell_type": "code",
   "execution_count": 6,
   "id": "a75fe49a",
   "metadata": {},
   "outputs": [],
   "source": [
    "class robot_configuration:\n",
    "    base_x = 150\n",
    "    base_height = 10\n",
    "    \n",
    "    l1 = 120\n",
    "    j0_degrees = 90\n",
    "    \n",
    "    l2 = 120\n",
    "    j1_degrees = -90\n",
    "        \n",
    "rc = robot_configuration()"
   ]
  },
  {
   "cell_type": "code",
   "execution_count": 13,
   "id": "fead26a7",
   "metadata": {},
   "outputs": [],
   "source": [
    "class robot_figure:\n",
    "    \n",
    "    def __init__(self, robot_configuration):\n",
    "        self.rc = robot_configuration\n",
    "        self.b0 = [0,0]\n",
    "        self.j0 = [0,0]\n",
    "        self.j1 = [0,0]\n",
    "        self.j2 = [0,0]\n",
    "        self.d2r = math.pi/180 # convert degrees to radians\n",
    "    \n",
    "    def update_locations(self):\n",
    "        #Draw the base first\n",
    "        self.b0 = [self.rc.base_x, 20]\n",
    "\n",
    "        self.j0 = [self.b0[0], self.b0[1]+self.rc.base_height]\n",
    "\n",
    "        # Add the first link to the base\n",
    "        self.j1[0] = self.j0[0] + self.rc.l1 * math.cos(self.rc.j0_degrees*self.d2r)\n",
    "        self.j1[1] = self.j0[1] + self.rc.l1 * math.sin(self.rc.j0_degrees*self.d2r)\n",
    "        \n",
    "        # Add the second link to the first link\n",
    "        self.j2[0] = self.j1[0] + self.rc.l2 * math.cos((self.rc.j0_degrees+self.rc.j1_degrees)*self.d2r)\n",
    "        self.j2[1] = self.j1[1] + self.rc.l2 * math.sin((self.rc.j0_degrees+self.rc.j1_degrees)*self.d2r)\n",
    "\n",
    "rf = robot_figure(rc)\n"
   ]
  },
  {
   "cell_type": "code",
   "execution_count": 14,
   "id": "6cb71044",
   "metadata": {},
   "outputs": [],
   "source": [
    "pos_x_widget = widgets.FloatSlider(\n",
    "    value=90,\n",
    "    min=0,\n",
    "    max=360.0,\n",
    "    step=0.1,\n",
    "    description='J0 degrees:',\n",
    "    disabled=False,\n",
    "    continuous_update=True,\n",
    "    orientation='horizontal',\n",
    "    readout=True,\n",
    "    readout_format='.1f',\n",
    "    layout=Layout( width='700px' ),\n",
    ")\n",
    "\n",
    "def on_value_change_x(change):\n",
    "    rc.j0_degrees = (change['new'])\n",
    "    rf.update_locations()\n",
    "    draw_robot_canvas(robot_canvas, rf)\n",
    "\n",
    "pos_x_widget.observe(on_value_change_x, names='value')\n",
    "\n",
    "pos_y_widget = widgets.FloatSlider(\n",
    "    value=90,\n",
    "    min=0,\n",
    "    max=360.0,\n",
    "    step=0.1,\n",
    "    description='J1 Degrees:',\n",
    "    disabled=False,\n",
    "    continuous_update=True,\n",
    "    orientation='vertical',\n",
    "    readout=True,\n",
    "    readout_format='.1f',\n",
    "    layout=Layout( height='300px' ),\n",
    ")\n",
    "\n",
    "def on_value_change_y(change):\n",
    "    rc.j1_degrees= (change['new'])\n",
    "    rf.update_locations()\n",
    "    draw_robot_canvas(robot_canvas, rf)\n",
    "    \n",
    "pos_y_widget.observe(on_value_change_y, names='value')\n"
   ]
  },
  {
   "cell_type": "code",
   "execution_count": 15,
   "id": "8a41e746",
   "metadata": {},
   "outputs": [
    {
     "data": {
      "application/vnd.jupyter.widget-view+json": {
       "model_id": "ce637c51bb024cbdb2697c4bd7271c4f",
       "version_major": 2,
       "version_minor": 0
      },
      "text/plain": [
       "VBox(children=(HBox(children=(FloatSlider(value=90.0, description='J0 degrees:', layout=Layout(width='700px'),…"
      ]
     },
     "metadata": {},
     "output_type": "display_data"
    }
   ],
   "source": [
    "cb = HBox([pos_y_widget, robot_canvas])\n",
    "tb = HBox([pos_x_widget])\n",
    "VBox([tb,cb])"
   ]
  },
  {
   "cell_type": "code",
   "execution_count": null,
   "id": "26500d88",
   "metadata": {},
   "outputs": [],
   "source": []
  },
  {
   "cell_type": "code",
   "execution_count": null,
   "id": "54eac66f",
   "metadata": {},
   "outputs": [],
   "source": []
  }
 ],
 "metadata": {
  "kernelspec": {
   "display_name": "Python 3 (ipykernel)",
   "language": "python",
   "name": "python3"
  },
  "language_info": {
   "codemirror_mode": {
    "name": "ipython",
    "version": 3
   },
   "file_extension": ".py",
   "mimetype": "text/x-python",
   "name": "python",
   "nbconvert_exporter": "python",
   "pygments_lexer": "ipython3",
   "version": "3.8.16"
  }
 },
 "nbformat": 4,
 "nbformat_minor": 5
}
