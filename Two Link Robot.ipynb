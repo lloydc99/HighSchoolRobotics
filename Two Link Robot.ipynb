{
 "cells": [
  {
   "cell_type": "code",
   "execution_count": 1,
   "id": "01e03876",
   "metadata": {},
   "outputs": [],
   "source": [
    "from ipycanvas import Canvas, hold_canvas, Path2D"
   ]
  },
  {
   "cell_type": "code",
   "execution_count": 2,
   "id": "b2bd56cf",
   "metadata": {},
   "outputs": [],
   "source": [
    "from ipywidgets import interact, interactive, fixed, interact_manual, HBox, VBox, AppLayout, Layout\n",
    "import ipywidgets as widgets"
   ]
  },
  {
   "cell_type": "code",
   "execution_count": 3,
   "id": "9f1337b0",
   "metadata": {},
   "outputs": [],
   "source": [
    "import numpy as np"
   ]
  },
  {
   "cell_type": "code",
   "execution_count": 4,
   "id": "c3c4f37d",
   "metadata": {},
   "outputs": [],
   "source": [
    "robot_canvas_width = 500\n",
    "robot_canvas_height = 300\n",
    "    \n",
    "robot_canvas = Canvas(width=robot_canvas_width, height=robot_canvas_height)\n"
   ]
  },
  {
   "cell_type": "code",
   "execution_count": 5,
   "id": "bd838af5",
   "metadata": {},
   "outputs": [],
   "source": [
    "def draw_robot_canvas(canvas, pos_x, pos_y):\n",
    "    with hold_canvas():\n",
    "        canvas.clear()\n",
    "        canvas.reset_transform()\n",
    "\n",
    "        # The origin of the canvas is the top which is upside down so we will\n",
    "        # move it to the bottom left corner and invert the y-axis\n",
    "        canvas.translate(0, canvas.height)\n",
    "        canvas.scale(1.0, -1.0)\n",
    "\n",
    "        canvas.line_width = 15\n",
    "        canvas.line_cap = 'round'\n",
    "        \n",
    "        b0 = (20,10)\n",
    "        j0 = (b0[0], b0[1]+10)\n",
    "        j1 = (pos_x, pos_y)\n",
    "        j2 = (300, 200)\n",
    "\n",
    "        # Draw vertical line for robot base\n",
    "        canvas.begin_path()\n",
    "        canvas.stroke_style = \"red\"\n",
    "        canvas.stroke_lines([b0,j0])\n",
    "        canvas.stroke()\n",
    "        \n",
    "        # Draw first link (j0-j1)\n",
    "        canvas.begin_path()\n",
    "        canvas.stroke_style = \"green\"\n",
    "        canvas.stroke_lines([j0,j1])\n",
    "        canvas.stroke()\n",
    "\n",
    "        # Draw second link (j1-j2)\n",
    "        canvas.begin_path()\n",
    "        canvas.stroke_style = \"blue\"\n",
    "        canvas.stroke_lines([j1,j2])\n",
    "        canvas.stroke()\n"
   ]
  },
  {
   "cell_type": "code",
   "execution_count": 6,
   "id": "23aba427",
   "metadata": {},
   "outputs": [],
   "source": [
    "class robot_configuration:\n",
    "    j1 = [100,100]\n",
    "\n",
    "    def update_pos_x(self, pos):\n",
    "        self.j1[0] = pos\n",
    "        draw_robot_canvas(robot_canvas, self.j1[0], self.j1[1])\n",
    "    \n",
    "    def update_pos_y(self, pos):\n",
    "        self.j1[1] = pos\n",
    "        draw_robot_canvas(robot_canvas, self.j1[0], self.j1[1])\n",
    "        \n",
    "rc = robot_configuration()"
   ]
  },
  {
   "cell_type": "code",
   "execution_count": null,
   "id": "fead26a7",
   "metadata": {},
   "outputs": [],
   "source": []
  },
  {
   "cell_type": "code",
   "execution_count": 7,
   "id": "40930cdf",
   "metadata": {},
   "outputs": [],
   "source": [
    "pos_x_widget = widgets.FloatSlider(\n",
    "    value=100,\n",
    "    min=0,\n",
    "    max=200.0,\n",
    "    step=0.1,\n",
    "    description='Pos (x):',\n",
    "    disabled=False,\n",
    "    continuous_update=True,\n",
    "    orientation='horizontal',\n",
    "    readout=True,\n",
    "    readout_format='.1f',\n",
    "    layout=Layout( width='700px' ),\n",
    ")\n",
    "\n",
    "def on_value_change_x(change):\n",
    "    rc.update_pos_x(change['new'])\n",
    "\n",
    "pos_x_widget.observe(on_value_change_x, names='value')\n",
    "\n",
    "pos_y_widget = widgets.FloatSlider(\n",
    "    value=100,\n",
    "    min=0,\n",
    "    max=200.0,\n",
    "    step=0.1,\n",
    "    description='Pos (y):',\n",
    "    disabled=False,\n",
    "    continuous_update=True,\n",
    "    orientation='vertical',\n",
    "    readout=True,\n",
    "    readout_format='.1f',\n",
    "    layout=Layout( height='300px' ),\n",
    ")\n",
    "\n",
    "def on_value_change_y(change):\n",
    "    rc.update_pos_y(change['new'])\n",
    "    \n",
    "pos_y_widget.observe(on_value_change_y, names='value')\n"
   ]
  },
  {
   "cell_type": "code",
   "execution_count": 8,
   "id": "84f8e62c",
   "metadata": {},
   "outputs": [
    {
     "data": {
      "application/vnd.jupyter.widget-view+json": {
       "model_id": "feb105016cfc432fbb6e3dedf7d1ce88",
       "version_major": 2,
       "version_minor": 0
      },
      "text/plain": [
       "VBox(children=(HBox(children=(FloatSlider(value=100.0, description='Pos (x):', layout=Layout(width='700px'), m…"
      ]
     },
     "metadata": {},
     "output_type": "display_data"
    }
   ],
   "source": [
    "cb = HBox([pos_y_widget, robot_canvas])\n",
    "tb = HBox([pos_x_widget])\n",
    "VBox([tb,cb])"
   ]
  },
  {
   "cell_type": "code",
   "execution_count": null,
   "id": "04e705ac",
   "metadata": {},
   "outputs": [],
   "source": []
  }
 ],
 "metadata": {
  "kernelspec": {
   "display_name": "Python 3 (ipykernel)",
   "language": "python",
   "name": "python3"
  },
  "language_info": {
   "codemirror_mode": {
    "name": "ipython",
    "version": 3
   },
   "file_extension": ".py",
   "mimetype": "text/x-python",
   "name": "python",
   "nbconvert_exporter": "python",
   "pygments_lexer": "ipython3",
   "version": "3.8.16"
  }
 },
 "nbformat": 4,
 "nbformat_minor": 5
}
