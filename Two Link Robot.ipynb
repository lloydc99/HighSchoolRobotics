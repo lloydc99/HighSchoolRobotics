{
 "cells": [
  {
   "cell_type": "code",
   "execution_count": 1,
   "id": "01e03876",
   "metadata": {},
   "outputs": [],
   "source": [
    "from ipycanvas import Canvas, hold_canvas, Path2D"
   ]
  },
  {
   "cell_type": "code",
   "execution_count": 19,
   "id": "b2bd56cf",
   "metadata": {},
   "outputs": [],
   "source": [
    "from ipywidgets import interact, interactive, fixed, interact_manual, HBox, VBox, AppLayout\n",
    "import ipywidgets as widgets"
   ]
  },
  {
   "cell_type": "code",
   "execution_count": 3,
   "id": "9f1337b0",
   "metadata": {},
   "outputs": [],
   "source": [
    "import numpy as np"
   ]
  },
  {
   "cell_type": "code",
   "execution_count": 4,
   "id": "c3c4f37d",
   "metadata": {},
   "outputs": [],
   "source": [
    "robot_canvas_width = 500\n",
    "robot_canvas_height = 300\n",
    "    \n",
    "robot_canvas = Canvas(width=robot_canvas_width, height=robot_canvas_height)\n"
   ]
  },
  {
   "cell_type": "code",
   "execution_count": null,
   "id": "57d7b3c3",
   "metadata": {},
   "outputs": [],
   "source": []
  },
  {
   "cell_type": "code",
   "execution_count": 5,
   "id": "bd838af5",
   "metadata": {},
   "outputs": [],
   "source": [
    "def draw_robot_canvas(canvas, pos_x, pos_y):\n",
    "    with hold_canvas():\n",
    "        canvas.clear()\n",
    "        canvas.reset_transform()\n",
    "\n",
    "        # The origin of the canvas is the top which is upside down so we will\n",
    "        # move it to the bottom corner and rotate by 180 degrees.\n",
    "        # The X-axis will be backwards, but that is better than being upside down.\n",
    "        canvas.translate(canvas.width,canvas.height)\n",
    "        canvas.rotate(3.14159)\n",
    "        \n",
    "        canvas.line_width = 15\n",
    "        canvas.line_cap = 'round'\n",
    "        \n",
    "        b0 = (20,10)\n",
    "        j0 = (b0[0], b0[1]+10)\n",
    "        j1 = (pos_x, pos_y)\n",
    "        j2 = (300, 200)\n",
    "\n",
    "        # Draw vertical line for robot base\n",
    "        canvas.begin_path()\n",
    "        canvas.stroke_style = \"red\"\n",
    "        canvas.stroke_lines([b0,j0])\n",
    "        canvas.stroke()\n",
    "        \n",
    "        # Draw first link (j0-j1)\n",
    "        canvas.begin_path()\n",
    "        canvas.stroke_style = \"green\"\n",
    "        canvas.stroke_lines([j0,j1])\n",
    "        canvas.stroke()\n",
    "\n",
    "        # Draw second link (j1-j2)\n",
    "        canvas.begin_path()\n",
    "        canvas.stroke_style = \"blue\"\n",
    "        canvas.stroke_lines([j1,j2])\n",
    "        canvas.stroke()\n"
   ]
  },
  {
   "cell_type": "code",
   "execution_count": 10,
   "id": "5183ebc5",
   "metadata": {},
   "outputs": [],
   "source": [
    "class robot_configuration:\n",
    "    j1 = [100,100]\n",
    "\n",
    "    def update_pos_x(self, pos):\n",
    "        self.j1[0] = pos\n",
    "        draw_robot_canvas(robot_canvas, self.j1[0], self.j1[1])\n",
    "    \n",
    "    def update_pos_y(self, pos):\n",
    "        self.j1[1] = pos\n",
    "        draw_robot_canvas(robot_canvas, self.j1[0], self.j1[1])\n",
    "        \n",
    "rc = robot_configuration()"
   ]
  },
  {
   "cell_type": "code",
   "execution_count": 11,
   "id": "fead26a7",
   "metadata": {},
   "outputs": [],
   "source": []
  },
  {
   "cell_type": "code",
   "execution_count": 21,
   "id": "cde8564c",
   "metadata": {},
   "outputs": [],
   "source": [
    "pos_x_widget = widgets.FloatSlider(\n",
    "    value=100,\n",
    "    min=0,\n",
    "    max=200.0,\n",
    "    step=0.1,\n",
    "    description='Pos (x):',\n",
    "    disabled=False,\n",
    "    continuous_update=True,\n",
    "    orientation='horizontal',\n",
    "    readout=True,\n",
    "    readout_format='.1f',\n",
    ")\n",
    "\n",
    "def on_value_change_x(change):\n",
    "    rc.update_pos_x(change['new'])\n",
    "\n",
    "pos_x_widget.observe(on_value_change_x, names='value')\n",
    "\n",
    "pos_y_widget = widgets.FloatSlider(\n",
    "    value=100,\n",
    "    min=0,\n",
    "    max=200.0,\n",
    "    step=0.1,\n",
    "    description='Pos (y):',\n",
    "    disabled=False,\n",
    "    continuous_update=True,\n",
    "    orientation='vertical',\n",
    "    readout=True,\n",
    "    readout_format='.1f',\n",
    ")\n",
    "\n",
    "def on_value_change_y(change):\n",
    "    rc.update_pos_y(change['new'])\n",
    "    \n",
    "pos_y_widget.observe(on_value_change_y, names='value')"
   ]
  },
  {
   "cell_type": "code",
   "execution_count": 22,
   "id": "06e30713",
   "metadata": {},
   "outputs": [
    {
     "data": {
      "application/vnd.jupyter.widget-view+json": {
       "model_id": "040e996ed8e04e90bc5ce3b99c861364",
       "version_major": 2,
       "version_minor": 0
      },
      "text/plain": [
       "AppLayout(children=(FloatSlider(value=81.5, description='Pos (x):', layout=Layout(grid_area='footer'), max=200…"
      ]
     },
     "metadata": {},
     "output_type": "display_data"
    }
   ],
   "source": [
    "AppLayout(header=None,\n",
    "          left_sidebar=qpos_y_widget,\n",
    "          center=robot_canvas,\n",
    "          right_sidebar=None,\n",
    "          footer=qpos_x_widget)"
   ]
  },
  {
   "cell_type": "code",
   "execution_count": null,
   "id": "400d928a",
   "metadata": {},
   "outputs": [],
   "source": []
  }
 ],
 "metadata": {
  "kernelspec": {
   "display_name": "Python 3 (ipykernel)",
   "language": "python",
   "name": "python3"
  },
  "language_info": {
   "codemirror_mode": {
    "name": "ipython",
    "version": 3
   },
   "file_extension": ".py",
   "mimetype": "text/x-python",
   "name": "python",
   "nbconvert_exporter": "python",
   "pygments_lexer": "ipython3",
   "version": "3.8.16"
  }
 },
 "nbformat": 4,
 "nbformat_minor": 5
}
