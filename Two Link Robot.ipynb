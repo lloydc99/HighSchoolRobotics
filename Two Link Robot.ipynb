{
 "cells": [
  {
   "cell_type": "code",
   "execution_count": 1,
   "id": "01e03876",
   "metadata": {},
   "outputs": [],
   "source": [
    "from ipycanvas import Canvas, hold_canvas, Path2D"
   ]
  },
  {
   "cell_type": "code",
   "execution_count": 2,
   "id": "b2bd56cf",
   "metadata": {},
   "outputs": [],
   "source": [
    "from ipywidgets import interact, interactive, fixed, interact_manual\n",
    "import ipywidgets as widgets"
   ]
  },
  {
   "cell_type": "code",
   "execution_count": 3,
   "id": "9f1337b0",
   "metadata": {},
   "outputs": [],
   "source": [
    "import numpy as np"
   ]
  },
  {
   "cell_type": "code",
   "execution_count": 18,
   "id": "c3c4f37d",
   "metadata": {},
   "outputs": [],
   "source": [
    "robot_canvas_width = 500\n",
    "robot_canvas_height = 300\n",
    "    \n",
    "robot_canvas = Canvas(width=robot_canvas_width, height=robot_canvas_height)\n",
    "\n",
    "global pos_x\n",
    "pos_x = 100\n",
    "global pos_y \n",
    "pos_y = 100\n",
    "\n",
    "def fx(pos):\n",
    "    print (pos_x,pos_y)\n",
    "    pos_x = pos\n",
    "    print (pos_x,pos_y)\n",
    "    draw_robot_canvas(robot_canvas, pos_x, pos_y)\n",
    "\n",
    "def fy(pos):\n",
    "    print (pos_x,pos_y)\n",
    "    pos_y = pos\n",
    "    print (pos_x,pos_y)\n",
    "    draw_robot_canvas(robot_canvas, pos_x, pos_y)"
   ]
  },
  {
   "cell_type": "code",
   "execution_count": 19,
   "id": "bd838af5",
   "metadata": {},
   "outputs": [],
   "source": [
    "def draw_robot_canvas(canvas, pos_x, pos_y):\n",
    "    with hold_canvas():\n",
    "        canvas.clear()\n",
    "        canvas.reset_transform()\n",
    "\n",
    "        # The origin of the canvas is the top which is upside down so we will\n",
    "        # move it to the bottom corner and rotate by 180 degrees.\n",
    "        # The X-axis will be backwards, but that is better than being upside down.\n",
    "        canvas.translate(canvas.width,canvas.height)\n",
    "        canvas.rotate(3.14159)\n",
    "        \n",
    "        canvas.line_width = 15\n",
    "        canvas.line_cap = 'round'\n",
    "        \n",
    "        b0 = (20,10)\n",
    "        j0 = (b0[0], b0[1]+10)\n",
    "        j1 = (pos_x, pos_y)\n",
    "        j2 = (300, 200)\n",
    "\n",
    "        # Draw vertical line for robot base\n",
    "        canvas.begin_path()\n",
    "        canvas.stroke_style = \"red\"\n",
    "        canvas.stroke_lines([b0,j0])\n",
    "        canvas.stroke()\n",
    "        \n",
    "        # Draw first link (j0-j1)\n",
    "        canvas.begin_path()\n",
    "        canvas.stroke_style = \"green\"\n",
    "        canvas.stroke_lines([j0,j1])\n",
    "        canvas.stroke()\n",
    "\n",
    "        # Draw second link (j1-j2)\n",
    "        canvas.begin_path()\n",
    "        canvas.stroke_style = \"blue\"\n",
    "        canvas.stroke_lines([j1,j2])\n",
    "        canvas.stroke()\n"
   ]
  },
  {
   "cell_type": "code",
   "execution_count": 20,
   "id": "fead26a7",
   "metadata": {},
   "outputs": [
    {
     "data": {
      "application/vnd.jupyter.widget-view+json": {
       "model_id": "ad21fc7746cd4c9dac2d7ea73bbea5b0",
       "version_major": 2,
       "version_minor": 0
      },
      "text/plain": [
       "interactive(children=(IntSlider(value=100, description='pos', max=200), Output()), _dom_classes=('widget-inter…"
      ]
     },
     "metadata": {},
     "output_type": "display_data"
    },
    {
     "data": {
      "application/vnd.jupyter.widget-view+json": {
       "model_id": "44e7fc99a11c4a3881764ce14ac41b91",
       "version_major": 2,
       "version_minor": 0
      },
      "text/plain": [
       "interactive(children=(IntSlider(value=100, description='pos', max=200), Output()), _dom_classes=('widget-inter…"
      ]
     },
     "metadata": {},
     "output_type": "display_data"
    },
    {
     "data": {
      "application/vnd.jupyter.widget-view+json": {
       "model_id": "dac14b32a8eb48cb86ccf0257a9145b6",
       "version_major": 2,
       "version_minor": 0
      },
      "text/plain": [
       "Canvas(height=300, width=500)"
      ]
     },
     "metadata": {},
     "output_type": "display_data"
    }
   ],
   "source": [
    "pos_x_widget = interactive(fx, pos=(0,200))\n",
    "pos_y_widget = interactive(fy, pos=(0,200))\n",
    "display(pos_x_widget)\n",
    "display(pos_y_widget)\n",
    "display(robot_canvas)"
   ]
  },
  {
   "cell_type": "code",
   "execution_count": null,
   "id": "400d928a",
   "metadata": {},
   "outputs": [],
   "source": []
  }
 ],
 "metadata": {
  "kernelspec": {
   "display_name": "Python 3 (ipykernel)",
   "language": "python",
   "name": "python3"
  },
  "language_info": {
   "codemirror_mode": {
    "name": "ipython",
    "version": 3
   },
   "file_extension": ".py",
   "mimetype": "text/x-python",
   "name": "python",
   "nbconvert_exporter": "python",
   "pygments_lexer": "ipython3",
   "version": "3.8.16"
  }
 },
 "nbformat": 4,
 "nbformat_minor": 5
}
